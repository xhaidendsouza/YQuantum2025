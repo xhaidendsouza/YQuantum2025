{
 "cells": [
  {
   "cell_type": "markdown",
   "metadata": {},
   "source": [
    "# Getting Started with Qbraid"
   ]
  },
  {
   "cell_type": "markdown",
   "metadata": {},
   "source": [
    "For those choosing to run the notebook on Qbraid, follow these instructions. Alternatively, you can run the notebook locally, on Google Colab, or on any other platform of your choice.\n",
    "\n",
    "Qbraid provides an environment that includes all the necessary packages to run the challenge notebook, and it also allows you to run experiments on real quantum computers. Follow these steps to get started:\n",
    "\n",
    "1. **Create a Qbraid Account:** Visit [Qbraid](https://www.qbraid.com/) and sign up for an account.\n",
    "\n",
    "2. **Claim Your Credits:** After signing up, click **Manage** next to your \"Plan: Free\" status on the homepage. In the \"Access Key\" field, enter the code ***EHNU6626*** and press submit to receive 500 credits for quantum experiments.\n",
    "\n",
    "3. **Launch Your Jupyter Notebook:**\n",
    "   - Under the **Compute** tab, choose **Free 2vCPU 4GB RAM**.\n",
    "   - Click **Launch Lab**, then select **My Server** to open the JupyterLab interface (which includes a terminal, file browser, and environment manager).\n",
    "\n",
    "4. **Upload Project Files:** Download the necessary files from this [GitHub repository](https://github.com/TahoeQuantum/WildfireChallenge2025.git) and upload them to your Qbraid workspace.\n",
    "\n",
    "5. **Set Up the Environment:**\n",
    "   - In the **Environments** section, click **Add**.\n",
    "   - Search for \"Tahoe Quantum\" and click **Install**.\n",
    "   - Once installed, open your challenge notebook and select the \"Tahoe Quantum\" kernel from the top right corner.\n",
    "\n",
    "You're all set to start coding and experimenting!"
   ]
  },
  {
   "cell_type": "markdown",
   "metadata": {},
   "source": [
    "## Running on Actual Machines\n",
    "\n",
    "Qbraid also enables you to run your code on real quantum computers. If you want to include this in your solution, here are some useful resources:\n",
    "\n",
    "- **Submit via Lab:** [Quantum Jobs with Lab](https://docs.qbraid.com/lab/user-guide/quantum-jobs)\n",
    "- **Submit via VSCode Extension:** [Integration Instructions](https://docs.qbraid.com/lab/user-guide/integrations)\n",
    "- **Submit via qBraid SDK:** [SDK User Guide](https://docs.qbraid.com/sdk/user-guide/providers/native)\n",
    "\n",
    "For further details, please refer to the [Qbraid documentation](https://docs.qbraid.com/lab/user-guide/overview). Please note the limited credits available."
   ]
  }
 ],
 "metadata": {
  "language_info": {
   "name": "python"
  }
 },
 "nbformat": 4,
 "nbformat_minor": 2
}
