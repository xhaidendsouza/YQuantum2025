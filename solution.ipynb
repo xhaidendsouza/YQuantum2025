{
 "cells": [
  {
   "cell_type": "markdown",
   "id": "e0eeeeaa",
   "metadata": {},
   "source": [
    "# Tahoe Quantum Challenge Solution\n",
    "### Hadamard Hooligans"
   ]
  },
  {
   "cell_type": "code",
   "execution_count": null,
   "id": "18e94891",
   "metadata": {},
   "outputs": [
    {
     "data": {
      "text/html": [
       "<table style='border-collapse: collapse;'><tr>  <td style='background-color: lightgreen; color: black; padding: 10px; border: 1px solid black;'>E<br>0<br>0.5</td><td style='background-color: darkgreen; color: white; padding: 10px; border: 1px solid black;'>D<br>0<br>0.5</td><td style='background-color: darkgreen; color: white; padding: 10px; border: 1px solid black;'>D<br>0<br>0.5</td><td style='background-color: darkgreen; color: white; padding: 10px; border: 1px solid black;'>D<br>0<br>0.5</td><td style='background-color: darkgreen; color: white; padding: 10px; border: 1px solid black;'>D<br>0<br>0.5</td><td style='background-color: darkgreen; color: white; padding: 10px; border: 1px solid black;'>D<br>0<br>0.5</td>  <td style='background-color: lightgreen; color: black; padding: 10px; border: 1px solid black;'>E<br>0<br>0.5</td>  <td style='background-color: lightgreen; color: black; padding: 10px; border: 1px solid black;'>E<br>0<br>0.5</td></tr><tr><td style='background-color: tan; color: black; padding: 10px; border: 1px solid black;'>H<br>1784<br>0.5</td>  <td style='background-color: lightgreen; color: black; padding: 10px; border: 1px solid black;'>E<br>0<br>0.5</td><td style='background-color: darkgreen; color: white; padding: 10px; border: 1px solid black;'>D<br>0<br>0.5</td><td style='background-color: darkgreen; color: white; padding: 10px; border: 1px solid black;'>D<br>0<br>0.5</td><td style='background-color: darkgreen; color: white; padding: 10px; border: 1px solid black;'>D<br>0<br>0.5</td>  <td style='background-color: lightgreen; color: black; padding: 10px; border: 1px solid black;'>E<br>0<br>0.5</td><td style='background-color: tan; color: black; padding: 10px; border: 1px solid black;'>H<br>3047<br>0.5</td><td style='background-color: tan; color: black; padding: 10px; border: 1px solid black;'>H<br>1426<br>0.5</td></tr><tr><td style='background-color: tan; color: black; padding: 10px; border: 1px solid black;'>H<br>1669<br>0.5</td><td style='background-color: tan; color: black; padding: 10px; border: 1px solid black;'>H<br>916<br>0.5</td>  <td style='background-color: lightgreen; color: black; padding: 10px; border: 1px solid black;'>E<br>0<br>0.5</td><td style='background-color: darkgreen; color: white; padding: 10px; border: 1px solid black;'>D<br>0<br>0.5</td>  <td style='background-color: lightgreen; color: black; padding: 10px; border: 1px solid black;'>E<br>0<br>0.5</td><td style='background-color: tan; color: black; padding: 10px; border: 1px solid black;'>H<br>2264<br>0.5</td>  <td style='background-color: lightgreen; color: black; padding: 10px; border: 1px solid black;'>E<br>0<br>0.5</td><td style='background-color: tan; color: black; padding: 10px; border: 1px solid black;'>H<br>584<br>0.5</td></tr><tr><td style='background-color: tan; color: black; padding: 10px; border: 1px solid black;'>H<br>526<br>0.5</td><td style='background-color: tan; color: black; padding: 10px; border: 1px solid black;'>H<br>3527<br>0.5</td><td style='background-color: tan; color: black; padding: 10px; border: 1px solid black;'>H<br>949<br>0.5</td>  <td style='background-color: lightgreen; color: black; padding: 10px; border: 1px solid black;'>E<br>0<br>0.5</td><td style='background-color: tan; color: black; padding: 10px; border: 1px solid black;'>H<br>2599<br>0.5</td><td style='background-color: tan; color: black; padding: 10px; border: 1px solid black;'>H<br>3129<br>0.5</td><td style='background-color: tan; color: black; padding: 10px; border: 1px solid black;'>H<br>1132<br>0.5</td><td style='background-color: tan; color: black; padding: 10px; border: 1px solid black;'>H<br>1486<br>0.5</td></tr><tr><td style='background-color: tan; color: black; padding: 10px; border: 1px solid black;'>H<br>3173<br>0.5</td>  <td style='background-color: lightgreen; color: black; padding: 10px; border: 1px solid black;'>E<br>0<br>0.5</td>  <td style='background-color: lightgreen; color: black; padding: 10px; border: 1px solid black;'>E<br>0<br>0.5</td><td style='background-color: darkgreen; color: white; padding: 10px; border: 1px solid black;'>D<br>0<br>0.5</td>  <td style='background-color: lightgreen; color: black; padding: 10px; border: 1px solid black;'>E<br>0<br>0.5</td><td style='background-color: tan; color: black; padding: 10px; border: 1px solid black;'>H<br>2900<br>0.5</td><td style='background-color: tan; color: black; padding: 10px; border: 1px solid black;'>H<br>2241<br>0.5</td>  <td style='background-color: lightgreen; color: black; padding: 10px; border: 1px solid black;'>E<br>0<br>0.5</td></tr><tr>  <td style='background-color: lightgreen; color: black; padding: 10px; border: 1px solid black;'>E<br>0<br>0.5</td><td style='background-color: darkgreen; color: white; padding: 10px; border: 1px solid black;'>D<br>0<br>0.5</td><td style='background-color: darkgreen; color: white; padding: 10px; border: 1px solid black;'>D<br>0<br>0.5</td><td style='background-color: darkgreen; color: white; padding: 10px; border: 1px solid black;'>D<br>0<br>0.5</td><td style='background-color: darkgreen; color: white; padding: 10px; border: 1px solid black;'>D<br>0<br>0.5</td>  <td style='background-color: lightgreen; color: black; padding: 10px; border: 1px solid black;'>E<br>0<br>0.5</td><td style='background-color: tan; color: black; padding: 10px; border: 1px solid black;'>H<br>1332<br>0.5</td><td style='background-color: tan; color: black; padding: 10px; border: 1px solid black;'>H<br>1093<br>0.5</td></tr><tr><td style='background-color: darkgreen; color: white; padding: 10px; border: 1px solid black;'>D<br>0<br>0.5</td><td style='background-color: darkgreen; color: white; padding: 10px; border: 1px solid black;'>D<br>0<br>0.5</td><td style='background-color: darkgreen; color: white; padding: 10px; border: 1px solid black;'>D<br>0<br>0.5</td><td style='background-color: darkgreen; color: white; padding: 10px; border: 1px solid black;'>D<br>0<br>0.5</td><td style='background-color: darkgreen; color: white; padding: 10px; border: 1px solid black;'>D<br>0<br>0.5</td><td style='background-color: darkgreen; color: white; padding: 10px; border: 1px solid black;'>D<br>0<br>0.5</td>  <td style='background-color: lightgreen; color: black; padding: 10px; border: 1px solid black;'>E<br>0<br>0.5</td>  <td style='background-color: lightgreen; color: black; padding: 10px; border: 1px solid black;'>E<br>0<br>0.5</td></tr><tr><td style='background-color: darkgreen; color: white; padding: 10px; border: 1px solid black;'>D<br>0<br>0.5</td><td style='background-color: darkgreen; color: white; padding: 10px; border: 1px solid black;'>D<br>0<br>0.5</td><td style='background-color: darkgreen; color: white; padding: 10px; border: 1px solid black;'>D<br>0<br>0.5</td><td style='background-color: darkgreen; color: white; padding: 10px; border: 1px solid black;'>D<br>0<br>0.5</td><td style='background-color: darkgreen; color: white; padding: 10px; border: 1px solid black;'>D<br>0<br>0.5</td><td style='background-color: darkgreen; color: white; padding: 10px; border: 1px solid black;'>D<br>0<br>0.5</td><td style='background-color: darkgreen; color: white; padding: 10px; border: 1px solid black;'>D<br>0<br>0.5</td><td style='background-color: darkgreen; color: white; padding: 10px; border: 1px solid black;'>D<br>0<br>0.5</td></tr></table>"
      ],
      "text/plain": [
       "<IPython.core.display.HTML object>"
      ]
     },
     "metadata": {},
     "output_type": "display_data"
    }
   ],
   "source": [
    "import random \n",
    "from collections import deque\n",
    "from IPython.display import display, HTML\n",
    "import json\n",
    "with open('map_data.json', 'r') as file:\n",
    "    map_data = json.load(file)\n",
    "\n",
    "def get_risk():\n",
    "    return 0.5\n",
    "\n",
    "def get_neighbors(x, y, n):\n",
    "    directions = [(-1,0), (1,0), (0,-1), (0,1)]\n",
    "    return [(x+dx, y+dy) for dx, dy in directions if 0 <= x+dx < n and 0 <= y+dy < n]\n",
    "\n",
    "def valid_types_around(grid, x, y, n):\n",
    "    neighbors = get_neighbors(x, y, n)\n",
    "    types = set(grid[nx][ny]['type'] for nx, ny in neighbors if grid[nx][ny] is not None)\n",
    "    possible = []\n",
    "\n",
    "    if types and types.issubset({'E', 'H'}):\n",
    "        possible.append('H')\n",
    "    if types & {'H'}:\n",
    "        possible.append('E')\n",
    "    if types & {'E', 'D'} and 'H' not in types:\n",
    "        possible.append('D')\n",
    "\n",
    "    return possible\n",
    "\n",
    "def generate_grid(n, d_limit=3):\n",
    "    grid = [[None for _ in range(n)] for _ in range(n)]\n",
    "    start_x, start_y = random.randint(0, n-1), random.randint(0, n-1)\n",
    "    grid[start_x][start_y] = {\n",
    "        'type': 'E',\n",
    "        'population': 0,\n",
    "        'risk': 0.5,\n",
    "    }\n",
    "    frontier = deque([(start_x, start_y)])\n",
    "\n",
    "    while frontier:\n",
    "        x, y = frontier.popleft()\n",
    "        for nx, ny in get_neighbors(x, y, n):\n",
    "            if grid[nx][ny] is None:\n",
    "                options = valid_types_around(grid, nx, ny, n)\n",
    "                if options:\n",
    "                    typ = random.choice(options)\n",
    "                    pop = random.randint(500, 4000) if typ == 'H' else 0\n",
    "                    risk = get_risk()\n",
    "\n",
    "                    # grid[nx][ny] = choice\n",
    "                    grid[nx][ny] = {\n",
    "                        'type': typ,\n",
    "                        'population': pop,\n",
    "                        'risk': risk\n",
    "                    }\n",
    "                    frontier.append((nx, ny))\n",
    "\n",
    "    return grid\n",
    "\n",
    "def print_grid(grid):\n",
    "    html = \"<table style='border-collapse: collapse;'>\"\n",
    "    \n",
    "    for row in grid:\n",
    "        html += \"<tr>\"\n",
    "        for cell in row:\n",
    "            if cell['type'] == 'D':\n",
    "                html += \"<td style='background-color: darkgreen; color: white; padding: 10px; border: 1px solid black;'>{}<br>{}<br>{}</td>\".format(cell['type'], cell['population'], cell['risk'])  # Dark Green for D\n",
    "            elif cell['type'] == 'E':\n",
    "                html += \"  <td style='background-color: lightgreen; color: black; padding: 10px; border: 1px solid black;'>{}<br>{}<br>{}</td>\".format(cell['type'], cell['population'], cell['risk'])  # Light Green for E\n",
    "            elif cell['type'] == 'H':\n",
    "                html += \"<td style='background-color: tan; color: black; padding: 10px; border: 1px solid black;'>{}<br>{}<br>{}</td>\".format(cell['type'], cell['population'], cell['risk'])  # Tan for H\n",
    "            else:\n",
    "                html += \"<td style='background-color: white; color: black; padding: 10px; border: 1px solid black;'>.</td>\"  # Default for empty cells\n",
    "        html += \"</tr>\"\n",
    "    \n",
    "    html += \"</table>\"\n",
    "    \n",
    "    display(HTML(html))\n",
    "\n",
    "# Example usage\n",
    "n = 8\n",
    "grid = generate_grid(n)\n",
    "print_grid(grid)\n"
   ]
  }
 ],
 "metadata": {
  "kernelspec": {
   "display_name": "Python 3",
   "language": "python",
   "name": "python3"
  },
  "language_info": {
   "codemirror_mode": {
    "name": "ipython",
    "version": 3
   },
   "file_extension": ".py",
   "mimetype": "text/x-python",
   "name": "python",
   "nbconvert_exporter": "python",
   "pygments_lexer": "ipython3",
   "version": "3.12.5"
  }
 },
 "nbformat": 4,
 "nbformat_minor": 5
}
