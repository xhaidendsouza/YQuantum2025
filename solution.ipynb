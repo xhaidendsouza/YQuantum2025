{
 "cells": [
  {
   "cell_type": "code",
   "execution_count": 132,
   "id": "18e94891",
   "metadata": {},
   "outputs": [
    {
     "data": {
      "text/html": [
       "<table style='border-collapse: collapse;'><tr><td style='background-color: darkgreen; color: white; padding: 10px; border: 1px solid black;'>D</td><td style='background-color: darkgreen; color: white; padding: 10px; border: 1px solid black;'>D</td><td style='background-color: darkgreen; color: white; padding: 10px; border: 1px solid black;'>D</td><td style='background-color: darkgreen; color: white; padding: 10px; border: 1px solid black;'>D</td><td style='background-color: darkgreen; color: white; padding: 10px; border: 1px solid black;'>D</td>  <td style='background-color: lightgreen; color: black; padding: 10px; border: 1px solid black;'>E</td><td style='background-color: tan; color: black; padding: 10px; border: 1px solid black;'>H</td>  <td style='background-color: lightgreen; color: black; padding: 10px; border: 1px solid black;'>E</td></tr><tr><td style='background-color: darkgreen; color: white; padding: 10px; border: 1px solid black;'>D</td><td style='background-color: darkgreen; color: white; padding: 10px; border: 1px solid black;'>D</td><td style='background-color: darkgreen; color: white; padding: 10px; border: 1px solid black;'>D</td><td style='background-color: darkgreen; color: white; padding: 10px; border: 1px solid black;'>D</td><td style='background-color: darkgreen; color: white; padding: 10px; border: 1px solid black;'>D</td><td style='background-color: darkgreen; color: white; padding: 10px; border: 1px solid black;'>D</td>  <td style='background-color: lightgreen; color: black; padding: 10px; border: 1px solid black;'>E</td><td style='background-color: tan; color: black; padding: 10px; border: 1px solid black;'>H</td></tr><tr><td style='background-color: darkgreen; color: white; padding: 10px; border: 1px solid black;'>D</td><td style='background-color: darkgreen; color: white; padding: 10px; border: 1px solid black;'>D</td><td style='background-color: darkgreen; color: white; padding: 10px; border: 1px solid black;'>D</td><td style='background-color: darkgreen; color: white; padding: 10px; border: 1px solid black;'>D</td><td style='background-color: darkgreen; color: white; padding: 10px; border: 1px solid black;'>D</td>  <td style='background-color: lightgreen; color: black; padding: 10px; border: 1px solid black;'>E</td><td style='background-color: tan; color: black; padding: 10px; border: 1px solid black;'>H</td>  <td style='background-color: lightgreen; color: black; padding: 10px; border: 1px solid black;'>E</td></tr><tr><td style='background-color: darkgreen; color: white; padding: 10px; border: 1px solid black;'>D</td><td style='background-color: darkgreen; color: white; padding: 10px; border: 1px solid black;'>D</td><td style='background-color: darkgreen; color: white; padding: 10px; border: 1px solid black;'>D</td>  <td style='background-color: lightgreen; color: black; padding: 10px; border: 1px solid black;'>E</td>  <td style='background-color: lightgreen; color: black; padding: 10px; border: 1px solid black;'>E</td><td style='background-color: tan; color: black; padding: 10px; border: 1px solid black;'>H</td>  <td style='background-color: lightgreen; color: black; padding: 10px; border: 1px solid black;'>E</td><td style='background-color: tan; color: black; padding: 10px; border: 1px solid black;'>H</td></tr><tr><td style='background-color: darkgreen; color: white; padding: 10px; border: 1px solid black;'>D</td><td style='background-color: darkgreen; color: white; padding: 10px; border: 1px solid black;'>D</td><td style='background-color: darkgreen; color: white; padding: 10px; border: 1px solid black;'>D</td>  <td style='background-color: lightgreen; color: black; padding: 10px; border: 1px solid black;'>E</td><td style='background-color: tan; color: black; padding: 10px; border: 1px solid black;'>H</td>  <td style='background-color: lightgreen; color: black; padding: 10px; border: 1px solid black;'>E</td>  <td style='background-color: lightgreen; color: black; padding: 10px; border: 1px solid black;'>E</td>  <td style='background-color: lightgreen; color: black; padding: 10px; border: 1px solid black;'>E</td></tr><tr><td style='background-color: darkgreen; color: white; padding: 10px; border: 1px solid black;'>D</td><td style='background-color: darkgreen; color: white; padding: 10px; border: 1px solid black;'>D</td><td style='background-color: darkgreen; color: white; padding: 10px; border: 1px solid black;'>D</td><td style='background-color: darkgreen; color: white; padding: 10px; border: 1px solid black;'>D</td>  <td style='background-color: lightgreen; color: black; padding: 10px; border: 1px solid black;'>E</td><td style='background-color: darkgreen; color: white; padding: 10px; border: 1px solid black;'>D</td><td style='background-color: darkgreen; color: white; padding: 10px; border: 1px solid black;'>D</td>  <td style='background-color: lightgreen; color: black; padding: 10px; border: 1px solid black;'>E</td></tr><tr><td style='background-color: darkgreen; color: white; padding: 10px; border: 1px solid black;'>D</td>  <td style='background-color: lightgreen; color: black; padding: 10px; border: 1px solid black;'>E</td>  <td style='background-color: lightgreen; color: black; padding: 10px; border: 1px solid black;'>E</td>  <td style='background-color: lightgreen; color: black; padding: 10px; border: 1px solid black;'>E</td>  <td style='background-color: lightgreen; color: black; padding: 10px; border: 1px solid black;'>E</td><td style='background-color: darkgreen; color: white; padding: 10px; border: 1px solid black;'>D</td><td style='background-color: darkgreen; color: white; padding: 10px; border: 1px solid black;'>D</td>  <td style='background-color: lightgreen; color: black; padding: 10px; border: 1px solid black;'>E</td></tr><tr><td style='background-color: darkgreen; color: white; padding: 10px; border: 1px solid black;'>D</td><td style='background-color: darkgreen; color: white; padding: 10px; border: 1px solid black;'>D</td><td style='background-color: darkgreen; color: white; padding: 10px; border: 1px solid black;'>D</td><td style='background-color: darkgreen; color: white; padding: 10px; border: 1px solid black;'>D</td><td style='background-color: darkgreen; color: white; padding: 10px; border: 1px solid black;'>D</td><td style='background-color: darkgreen; color: white; padding: 10px; border: 1px solid black;'>D</td><td style='background-color: darkgreen; color: white; padding: 10px; border: 1px solid black;'>D</td>  <td style='background-color: lightgreen; color: black; padding: 10px; border: 1px solid black;'>E</td></tr></table>"
      ],
      "text/plain": [
       "<IPython.core.display.HTML object>"
      ]
     },
     "metadata": {},
     "output_type": "display_data"
    }
   ],
   "source": [
    "import random \n",
    "from collections import deque\n",
    "from IPython.display import display, HTML\n",
    "\n",
    "def get_neighbors(x, y, n):\n",
    "    directions = [(-1,0), (1,0), (0,-1), (0,1)]\n",
    "    return [(x+dx, y+dy) for dx, dy in directions if 0 <= x+dx < n and 0 <= y+dy < n]\n",
    "\n",
    "def valid_types_around(grid, x, y, n):\n",
    "    neighbors = get_neighbors(x, y, n)\n",
    "    types = set(grid[nx][ny] for nx, ny in neighbors if grid[nx][ny] is not None)\n",
    "    possible = []\n",
    "\n",
    "    if types and types.issubset({'E'}):\n",
    "        possible.append('H')\n",
    "    if types & {'E', 'H'}:\n",
    "        possible.append('E')\n",
    "    if types & {'E', 'D'} and 'H' not in types:\n",
    "        possible.append('D')\n",
    "\n",
    "    return possible\n",
    "\n",
    "def generate_grid(n, d_limit=3):\n",
    "    grid = [[None for _ in range(n)] for _ in range(n)]\n",
    "    start_x, start_y = random.randint(0, n-1), random.randint(0, n-1)\n",
    "    grid[start_x][start_y] = 'E'\n",
    "    frontier = deque([(start_x, start_y)])\n",
    "\n",
    "    while frontier:\n",
    "        x, y = frontier.popleft()\n",
    "        for nx, ny in get_neighbors(x, y, n):\n",
    "            if grid[nx][ny] is None:\n",
    "                options = valid_types_around(grid, nx, ny, n)\n",
    "                if options:\n",
    "                    choice = random.choice(options)\n",
    "                    grid[nx][ny] = choice\n",
    "                    frontier.append((nx, ny))\n",
    "\n",
    "    return grid\n",
    "\n",
    "def print_grid(grid):\n",
    "    html = \"<table style='border-collapse: collapse;'>\"\n",
    "    \n",
    "    for row in grid:\n",
    "        html += \"<tr>\"\n",
    "        for cell in row:\n",
    "            if cell == 'D':\n",
    "                html += \"<td style='background-color: darkgreen; color: white; padding: 10px; border: 1px solid black;'>{}</td>\".format(cell)  # Dark Green for D\n",
    "            elif cell == 'E':\n",
    "                html += \"  <td style='background-color: lightgreen; color: black; padding: 10px; border: 1px solid black;'>{}</td>\".format(cell)  # Light Green for E\n",
    "            elif cell == 'H':\n",
    "                html += \"<td style='background-color: tan; color: black; padding: 10px; border: 1px solid black;'>{}</td>\".format(cell)  # Tan for H\n",
    "            else:\n",
    "                html += \"<td style='background-color: white; color: black; padding: 10px; border: 1px solid black;'>.</td>\"  # Default for empty cells\n",
    "        html += \"</tr>\"\n",
    "    \n",
    "    html += \"</table>\"\n",
    "    \n",
    "    display(HTML(html))\n",
    "\n",
    "# Example usage\n",
    "n = 8\n",
    "grid = generate_grid(n)\n",
    "print_grid(grid)\n"
   ]
  }
 ],
 "metadata": {
  "kernelspec": {
   "display_name": "Python 3",
   "language": "python",
   "name": "python3"
  },
  "language_info": {
   "codemirror_mode": {
    "name": "ipython",
    "version": 3
   },
   "file_extension": ".py",
   "mimetype": "text/x-python",
   "name": "python",
   "nbconvert_exporter": "python",
   "pygments_lexer": "ipython3",
   "version": "3.12.5"
  }
 },
 "nbformat": 4,
 "nbformat_minor": 5
}
